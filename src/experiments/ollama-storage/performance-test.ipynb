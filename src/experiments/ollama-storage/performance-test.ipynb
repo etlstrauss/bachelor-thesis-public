{
 "cells": [
  {
   "cell_type": "markdown",
   "metadata": {},
   "source": [
    "# Disk performance test\n",
    "- this notebook will be used to find the best configuration for ollama model storage\n",
    "- you will find a separate toml file (to configure some parameters) and a auto generated md file in the same directory like this notebook\n",
    "- the goal is to explore the best possible disk configuration to store ollama models "
   ]
  },
  {
   "cell_type": "code",
   "execution_count": 35,
   "metadata": {},
   "outputs": [],
   "source": [
    "import os\n",
    "import subprocess\n",
    "import toml\n",
    "import json\n",
    "import paramiko\n",
    "import pandas as pd"
   ]
  },
  {
   "cell_type": "code",
   "execution_count": 36,
   "metadata": {},
   "outputs": [],
   "source": [
    "config_toml = toml.load('performance-test.toml')"
   ]
  },
  {
   "cell_type": "code",
   "execution_count": 37,
   "metadata": {},
   "outputs": [],
   "source": [
    "# load ssh key\n",
    "k = paramiko.ed25519key.Ed25519Key(filename='/home/tom/.ssh/test')\n",
    "\n",
    "# create ssh client\n",
    "ssh = paramiko.SSHClient()\n",
    "\n",
    "# connect to the server\n",
    "ssh.set_missing_host_key_policy(paramiko.AutoAddPolicy())\n",
    "ssh.connect(hostname='141.33.165.24', username='root', pkey=k)"
   ]
  },
  {
   "cell_type": "markdown",
   "metadata": {},
   "source": []
  },
  {
   "cell_type": "code",
   "execution_count": 38,
   "metadata": {},
   "outputs": [],
   "source": [
    "def get_pase_data(df, kind, raid, fs, bs, sz):\n",
    "    print(f'Test with: k-{kind} r-{raid} f-{fs} b-{bs} s-{sz}')\n",
    "    for model in config_toml['Model']['models']:\n",
    "        print(f'Start test for {model}.')\n",
    "        ssh.exec_command(f'echo 3 > /proc/sys/vm/drop_caches')[2].channel.recv_exit_status()\n",
    "        ssh.exec_command(f'ollama pull {model}')[2].channel.recv_exit_status()\n",
    "        print('Pulled model: ' + model)\n",
    "        model_params = model.split(':')\n",
    "        # open sftp client\n",
    "        sftp_client = ssh.open_sftp()\n",
    "        # open remote file\n",
    "        remote_file = sftp_client.open('/ollama/.ollama/models/manifests/registry.ollama.ai/library/' + model_params[0] + '/' + model_params[1])\n",
    "        # read remote file\n",
    "        json_data = json.loads(remote_file.read())\n",
    "\n",
    "        sftp_client.close()\n",
    "\n",
    "        # create list of digests\n",
    "        digests_list = []\n",
    "        for item in json_data['layers']:\n",
    "            digests_list.append(item['digest'].replace(':', '-'))\n",
    "\n",
    "        pase_data = []\n",
    "        for item in digests_list:\n",
    "            print('Start test for: ' + item)\n",
    "            command = 'dd if=/ollama/.ollama/models/blobs/' + item + ' of=/dev/zero'\n",
    "            ssh_stdin, ssh_stdout, ssh_stderr = ssh.exec_command(command)\n",
    "            pase_data_tmp = ssh_stderr.readlines()\n",
    "            pase_data_time = pase_data_tmp[2].split('copied, ')[1].split(' s, ')[0]\n",
    "            pase_data_bytes = pase_data_tmp[2].split(' bytes')[0]\n",
    "            pase_data_tmp = [pase_data_time, pase_data_bytes]\n",
    "            pase_data.append(pase_data_tmp)\n",
    "\n",
    "        pase_time = 0.0\n",
    "        pase_bytes = 0\n",
    "        for item in pase_data:\n",
    "            pase_time += float(item[0])\n",
    "            pase_bytes += int(item[1])\n",
    "\n",
    "        \n",
    "        new_entry ={ 'model': model, 'time': pase_time, 'bytes': pase_bytes, 'MiB/s': '{:.4f}'.format((pase_bytes / pase_time) / 1024 / 1024),\n",
    "                    'kind': kind, 'raid': raid, 'fs': fs, 'bs': bs, 'sz': sz}\n",
    "        df.loc[len(df)] = new_entry\n",
    "        print(f'Test for {model} completed: {new_entry}')\n"
   ]
  },
  {
   "cell_type": "code",
   "execution_count": 39,
   "metadata": {},
   "outputs": [
    {
     "name": "stdout",
     "output_type": "stream",
     "text": [
      "Test with: k-lvm r-0 f-xfs b-4096 s-4K\n",
      "Start test for llama3.1:70b.\n",
      "Pulled model: llama3.1:70b\n",
      "Start test for: sha256-a677b4a4b70c45e702b1d600f7905e367733c53898b8be60e3f29272cf334574\n",
      "Start test for: sha256-948af2743fc78a328dcb3b0f5a31b3d75f415840fdb699e8b1235978392ecf85\n",
      "Start test for: sha256-0ba8f0e314b4264dfd19df045cde9d4c394a52474bf92ed6a3de22a4ca31a177\n",
      "Start test for: sha256-56bb8bd477a519ffa694fc449c2413c6f0e1d3b1c88fa7e3c9d88d3ae49d4dcb\n",
      "Test for llama3.1:70b completed: {'model': 'llama3.1:70b', 'time': 40.580397950999995, 'bytes': 39969750953, 'MiB/s': '939.3236', 'kind': 'lvm', 'raid': '0', 'fs': 'xfs', 'bs': '4096', 'sz': '4K'}\n",
      "Start test for qwen2.5:72b-instruct-q8_0.\n"
     ]
    },
    {
     "ename": "KeyboardInterrupt",
     "evalue": "",
     "output_type": "error",
     "traceback": [
      "\u001b[0;31m---------------------------------------------------------------------------\u001b[0m",
      "\u001b[0;31mKeyboardInterrupt\u001b[0m                         Traceback (most recent call last)",
      "Cell \u001b[0;32mIn[39], line 28\u001b[0m\n\u001b[1;32m     26\u001b[0m     ssh\u001b[38;5;241m.\u001b[39mexec_command(\u001b[38;5;124m'\u001b[39m\u001b[38;5;124mchown -R ollama:ollama /ollama/\u001b[39m\u001b[38;5;124m'\u001b[39m)[\u001b[38;5;241m2\u001b[39m]\u001b[38;5;241m.\u001b[39mchannel\u001b[38;5;241m.\u001b[39mrecv_exit_status()\n\u001b[1;32m     27\u001b[0m     ssh\u001b[38;5;241m.\u001b[39mexec_command(\u001b[38;5;124m'\u001b[39m\u001b[38;5;124msystemctl start ollama.service\u001b[39m\u001b[38;5;124m'\u001b[39m)[\u001b[38;5;241m2\u001b[39m]\u001b[38;5;241m.\u001b[39mchannel\u001b[38;5;241m.\u001b[39mrecv_exit_status()\n\u001b[0;32m---> 28\u001b[0m     \u001b[43mget_pase_data\u001b[49m\u001b[43m(\u001b[49m\u001b[43mdf\u001b[49m\u001b[43m,\u001b[49m\u001b[43m \u001b[49m\u001b[43mkind\u001b[49m\u001b[43m,\u001b[49m\u001b[43m \u001b[49m\u001b[43mraid\u001b[49m\u001b[43m,\u001b[49m\u001b[43m \u001b[49m\u001b[43mfs\u001b[49m\u001b[43m,\u001b[49m\u001b[43m \u001b[49m\u001b[43mbs\u001b[49m\u001b[43m,\u001b[49m\u001b[43m \u001b[49m\u001b[43msz\u001b[49m\u001b[43m)\u001b[49m\n\u001b[1;32m     29\u001b[0m \u001b[38;5;28;01melif\u001b[39;00m(kind \u001b[38;5;241m==\u001b[39m \u001b[38;5;124m'\u001b[39m\u001b[38;5;124mlvm\u001b[39m\u001b[38;5;124m'\u001b[39m \u001b[38;5;129;01mand\u001b[39;00m raid \u001b[38;5;241m==\u001b[39m \u001b[38;5;124m'\u001b[39m\u001b[38;5;124m1\u001b[39m\u001b[38;5;124m'\u001b[39m):\n\u001b[1;32m     30\u001b[0m     ssh\u001b[38;5;241m.\u001b[39mexec_command(\u001b[38;5;124m'\u001b[39m\u001b[38;5;124mlvcreate --type raid\u001b[39m\u001b[38;5;124m'\u001b[39m \u001b[38;5;241m+\u001b[39m raid \u001b[38;5;241m+\u001b[39m \u001b[38;5;124m'\u001b[39m\u001b[38;5;124m -i 2 -L 894.255G -n ollama-m ollama-m -y\u001b[39m\u001b[38;5;124m'\u001b[39m)[\u001b[38;5;241m2\u001b[39m]\u001b[38;5;241m.\u001b[39mchannel\u001b[38;5;241m.\u001b[39mrecv_exit_status()\n",
      "Cell \u001b[0;32mIn[38], line 6\u001b[0m, in \u001b[0;36mget_pase_data\u001b[0;34m(df, kind, raid, fs, bs, sz)\u001b[0m\n\u001b[1;32m      4\u001b[0m \u001b[38;5;28mprint\u001b[39m(\u001b[38;5;124mf\u001b[39m\u001b[38;5;124m'\u001b[39m\u001b[38;5;124mStart test for \u001b[39m\u001b[38;5;132;01m{\u001b[39;00mmodel\u001b[38;5;132;01m}\u001b[39;00m\u001b[38;5;124m.\u001b[39m\u001b[38;5;124m'\u001b[39m)\n\u001b[1;32m      5\u001b[0m ssh\u001b[38;5;241m.\u001b[39mexec_command(\u001b[38;5;124mf\u001b[39m\u001b[38;5;124m'\u001b[39m\u001b[38;5;124mecho 3 > /proc/sys/vm/drop_caches\u001b[39m\u001b[38;5;124m'\u001b[39m)[\u001b[38;5;241m2\u001b[39m]\u001b[38;5;241m.\u001b[39mchannel\u001b[38;5;241m.\u001b[39mrecv_exit_status()\n\u001b[0;32m----> 6\u001b[0m \u001b[43mssh\u001b[49m\u001b[38;5;241;43m.\u001b[39;49m\u001b[43mexec_command\u001b[49m\u001b[43m(\u001b[49m\u001b[38;5;124;43mf\u001b[39;49m\u001b[38;5;124;43m'\u001b[39;49m\u001b[38;5;124;43mollama pull \u001b[39;49m\u001b[38;5;132;43;01m{\u001b[39;49;00m\u001b[43mmodel\u001b[49m\u001b[38;5;132;43;01m}\u001b[39;49;00m\u001b[38;5;124;43m'\u001b[39;49m\u001b[43m)\u001b[49m\u001b[43m[\u001b[49m\u001b[38;5;241;43m2\u001b[39;49m\u001b[43m]\u001b[49m\u001b[38;5;241;43m.\u001b[39;49m\u001b[43mchannel\u001b[49m\u001b[38;5;241;43m.\u001b[39;49m\u001b[43mrecv_exit_status\u001b[49m\u001b[43m(\u001b[49m\u001b[43m)\u001b[49m\n\u001b[1;32m      7\u001b[0m \u001b[38;5;28mprint\u001b[39m(\u001b[38;5;124m'\u001b[39m\u001b[38;5;124mPulled model: \u001b[39m\u001b[38;5;124m'\u001b[39m \u001b[38;5;241m+\u001b[39m model)\n\u001b[1;32m      8\u001b[0m model_params \u001b[38;5;241m=\u001b[39m model\u001b[38;5;241m.\u001b[39msplit(\u001b[38;5;124m'\u001b[39m\u001b[38;5;124m:\u001b[39m\u001b[38;5;124m'\u001b[39m)\n",
      "File \u001b[0;32m~/Documents/HOST/Bachelorarbeit/venvs/base/lib/python3.12/site-packages/paramiko/channel.py:400\u001b[0m, in \u001b[0;36mChannel.recv_exit_status\u001b[0;34m(self)\u001b[0m\n\u001b[1;32m    377\u001b[0m \u001b[38;5;28;01mdef\u001b[39;00m \u001b[38;5;21mrecv_exit_status\u001b[39m(\u001b[38;5;28mself\u001b[39m):\n\u001b[1;32m    378\u001b[0m \u001b[38;5;250m    \u001b[39m\u001b[38;5;124;03m\"\"\"\u001b[39;00m\n\u001b[1;32m    379\u001b[0m \u001b[38;5;124;03m    Return the exit status from the process on the server.  This is\u001b[39;00m\n\u001b[1;32m    380\u001b[0m \u001b[38;5;124;03m    mostly useful for retrieving the results of an `exec_command`.\u001b[39;00m\n\u001b[0;32m   (...)\u001b[0m\n\u001b[1;32m    398\u001b[0m \u001b[38;5;124;03m    .. versionadded:: 1.2\u001b[39;00m\n\u001b[1;32m    399\u001b[0m \u001b[38;5;124;03m    \"\"\"\u001b[39;00m\n\u001b[0;32m--> 400\u001b[0m     \u001b[38;5;28;43mself\u001b[39;49m\u001b[38;5;241;43m.\u001b[39;49m\u001b[43mstatus_event\u001b[49m\u001b[38;5;241;43m.\u001b[39;49m\u001b[43mwait\u001b[49m\u001b[43m(\u001b[49m\u001b[43m)\u001b[49m\n\u001b[1;32m    401\u001b[0m     \u001b[38;5;28;01massert\u001b[39;00m \u001b[38;5;28mself\u001b[39m\u001b[38;5;241m.\u001b[39mstatus_event\u001b[38;5;241m.\u001b[39mis_set()\n\u001b[1;32m    402\u001b[0m     \u001b[38;5;28;01mreturn\u001b[39;00m \u001b[38;5;28mself\u001b[39m\u001b[38;5;241m.\u001b[39mexit_status\n",
      "File \u001b[0;32m/usr/lib/python3.12/threading.py:655\u001b[0m, in \u001b[0;36mEvent.wait\u001b[0;34m(self, timeout)\u001b[0m\n\u001b[1;32m    653\u001b[0m signaled \u001b[38;5;241m=\u001b[39m \u001b[38;5;28mself\u001b[39m\u001b[38;5;241m.\u001b[39m_flag\n\u001b[1;32m    654\u001b[0m \u001b[38;5;28;01mif\u001b[39;00m \u001b[38;5;129;01mnot\u001b[39;00m signaled:\n\u001b[0;32m--> 655\u001b[0m     signaled \u001b[38;5;241m=\u001b[39m \u001b[38;5;28;43mself\u001b[39;49m\u001b[38;5;241;43m.\u001b[39;49m\u001b[43m_cond\u001b[49m\u001b[38;5;241;43m.\u001b[39;49m\u001b[43mwait\u001b[49m\u001b[43m(\u001b[49m\u001b[43mtimeout\u001b[49m\u001b[43m)\u001b[49m\n\u001b[1;32m    656\u001b[0m \u001b[38;5;28;01mreturn\u001b[39;00m signaled\n",
      "File \u001b[0;32m/usr/lib/python3.12/threading.py:355\u001b[0m, in \u001b[0;36mCondition.wait\u001b[0;34m(self, timeout)\u001b[0m\n\u001b[1;32m    353\u001b[0m \u001b[38;5;28;01mtry\u001b[39;00m:    \u001b[38;5;66;03m# restore state no matter what (e.g., KeyboardInterrupt)\u001b[39;00m\n\u001b[1;32m    354\u001b[0m     \u001b[38;5;28;01mif\u001b[39;00m timeout \u001b[38;5;129;01mis\u001b[39;00m \u001b[38;5;28;01mNone\u001b[39;00m:\n\u001b[0;32m--> 355\u001b[0m         \u001b[43mwaiter\u001b[49m\u001b[38;5;241;43m.\u001b[39;49m\u001b[43macquire\u001b[49m\u001b[43m(\u001b[49m\u001b[43m)\u001b[49m\n\u001b[1;32m    356\u001b[0m         gotit \u001b[38;5;241m=\u001b[39m \u001b[38;5;28;01mTrue\u001b[39;00m\n\u001b[1;32m    357\u001b[0m     \u001b[38;5;28;01melse\u001b[39;00m:\n",
      "\u001b[0;31mKeyboardInterrupt\u001b[0m: "
     ]
    }
   ],
   "source": [
    "df = pd.DataFrame(columns=['model', 'time', 'bytes', 'MiB/s', 'kind', 'raid', 'fs', 'bs', 'sz'])\n",
    "for kind in config_toml['Disk_Configuration']['kind']:\n",
    "    for raid in config_toml['Disk_Configuration']['raid']:\n",
    "        for fs in config_toml['Disk_Configuration']['filesystem']:\n",
    "            for bs in config_toml['Disk_Configuration']['block_size']:\n",
    "                for sz in config_toml['Disk_Configuration']['stripe_size']:\n",
    "                    ssh.exec_command('systemctl stop ollama.service')[2].channel.recv_exit_status()\n",
    "                    ssh.exec_command('umount /ollama/')[2].channel.recv_exit_status()\n",
    "                    ssh.exec_command('lvremove -f /dev/ollama-m/ollama-m')[2].channel.recv_exit_status()\n",
    "                    ssh.exec_command('vgremove -f ollama-m')[2].channel.recv_exit_status()\n",
    "                    ssh.exec_command('pvremove -f /dev/sdd1 /dev/sdc1')[2].channel.recv_exit_status()\n",
    "                    ssh.exec_command('mdadm --zero-superblock /dev/sdd /dev/sdc')[2].channel.recv_exit_status()\n",
    "                    if(kind == 'lvm'):\n",
    "                        ssh.exec_command('parted -s /dev/sdd mklabel mdr && sudo parted -s /dev/sdd mkpart primary 0% 100%')[2].channel.recv_exit_status()\n",
    "                        ssh.exec_command('parted -s /dev/sdc mklabel mdr && sudo parted -s /dev/sdc mkpart primary 0% 100%')[2].channel.recv_exit_status()\n",
    "                        ssh.exec_command('pvcreate /dev/sdd1 /dev/sdc1')[2].channel.recv_exit_status()\n",
    "                        ssh.exec_command('vgcreate ollama-m /dev/sdd1 /dev/sdc1')[2].channel.recv_exit_status()\n",
    "                    if(kind == 'lvm' and raid == '0'):\n",
    "                        ssh.exec_command('lvcreate --type raid' + raid + ' -i 2 -I ' + sz + ' -L 894.255G -n ollama-m ollama-m -y')[2].channel.recv_exit_status()\n",
    "                        if(fs == 'xfs'):\n",
    "                            ssh.exec_command(f'mkfs.xfs -b size={bs} /dev/ollama-m/ollama-m -f')[2].channel.recv_exit_status()\n",
    "                        elif(fs == 'ext4'):\n",
    "                            ssh.exec_command(f'mkfs.ext4 -b {bs} /dev/ollama-m/ollama-m -F')[2].channel.recv_exit_status()\n",
    "                        ssh.exec_command('mount /dev/ollama-m/ollama-m /ollama/')[2].channel.recv_exit_status()\n",
    "                        ssh.exec_command('ln -s /ollama/ /usr/share/')[2].channel.recv_exit_status()\n",
    "                        ssh.exec_command('chown -R ollama:ollama /ollama/')[2].channel.recv_exit_status()\n",
    "                        ssh.exec_command('systemctl start ollama.service')[2].channel.recv_exit_status()\n",
    "                        get_pase_data(df, kind, raid, fs, bs, sz)\n",
    "                    elif(kind == 'lvm' and raid == '1'):\n",
    "                        ssh.exec_command('lvcreate --type raid' + raid + ' -i 2 -L 894.255G -n ollama-m ollama-m -y')[2].channel.recv_exit_status()\n",
    "                        if(fs == 'xfs'):\n",
    "                            ssh.exec_command(f'mkfs.xfs -b size={bs} /dev/ollama-m/ollama-m -f')[2].channel.recv_exit_status()\n",
    "                        elif(fs == 'ext4'):\n",
    "                            ssh.exec_command(f'mkfs.ext4 -b {bs} /dev/ollama-m/ollama-m -F')[2].channel.recv_exit_status()\n",
    "                        ssh.exec_command('mount /dev/ollama-m/ollama-m /ollama/')[2].channel.recv_exit_status()\n",
    "                        ssh.exec_command('ln -s /ollama/ /usr/share/')[2].channel.recv_exit_status()\n",
    "                        ssh.exec_command('chown -R ollama:ollama /ollama/')[2].channel.recv_exit_status()\n",
    "                        ssh.exec_command('systemctl start ollama.service')[2].channel.recv_exit_status()\n",
    "                        get_pase_data(df, kind, raid, fs, bs, '-')\n",
    "                    elif(kind == 'mdadm' and raid == '0'):\n",
    "                        ssh.exec_command(f'mdadm --create --verbose /dev/md0 --level={raid} --stripe-size={sz} --raid-devices=2 /dev/sdd /dev/sdc')[2].channel.recv_exit_status()\n",
    "                        if(fs == 'xfs'):\n",
    "                            ssh.exec_command(f'mkfs.xfs -b size={bs} /dev/ollama-m/ollama-m -f')[2].channel.recv_exit_status()\n",
    "                        elif(fs == 'ext4'):\n",
    "                            ssh.exec_command(f'mkfs.ext4 -b {bs} /dev/ollama-m/ollama-m -F')[2].channel.recv_exit_status()\n",
    "                        ssh.exec_command('mount /dev/ollama-m/ollama-m /ollama/')[2].channel.recv_exit_status()\n",
    "                        ssh.exec_command('ln -s /ollama/ /usr/share/')[2].channel.recv_exit_status()\n",
    "                        ssh.exec_command('chown -R ollama:ollama /ollama/')[2].channel.recv_exit_status()\n",
    "                        ssh.exec_command('systemctl start ollama.service')[2].channel.recv_exit_status()\n",
    "                        get_pase_data(df, kind, raid, fs, bs, sz)\n",
    "                    elif(kind == 'mdadm' and raid == '1'):\n",
    "                        ssh.exec_command(f'mdadm --create --verbose /dev/md0 --level={raid} --raid-devices=2 /dev/sdd /dev/sdc')[2].channel.recv_exit_status()\n",
    "                        if(fs == 'xfs'):\n",
    "                            ssh.exec_command(f'mkfs.xfs -b size={bs} /dev/ollama-m/ollama-m -f')[2].channel.recv_exit_status()\n",
    "                        elif(fs == 'ext4'):\n",
    "                            ssh.exec_command(f'mkfs.ext4 -b {bs} /dev/ollama-m/ollama-m -F')[2].channel.recv_exit_status()\n",
    "                        ssh.exec_command('mount /dev/ollama-m/ollama-m /ollama/')[2].channel.recv_exit_status()\n",
    "                        ssh.exec_command('ln -s /ollama/ /usr/share/')[2].channel.recv_exit_status()\n",
    "                        ssh.exec_command('chown -R ollama:ollama /ollama/')[2].channel.recv_exit_status()\n",
    "                        ssh.exec_command('systemctl start ollama.service')[2].channel.recv_exit_status()\n",
    "                        get_pase_data(df, kind, raid, fs, bs, '-')\n",
    "\n",
    "print(df)\n",
    "df.to_csv('output.csv', index=False)"
   ]
  }
 ],
 "metadata": {
  "kernelspec": {
   "display_name": "base",
   "language": "python",
   "name": "python3"
  },
  "language_info": {
   "codemirror_mode": {
    "name": "ipython",
    "version": 3
   },
   "file_extension": ".py",
   "mimetype": "text/x-python",
   "name": "python",
   "nbconvert_exporter": "python",
   "pygments_lexer": "ipython3",
   "version": "3.12.3"
  }
 },
 "nbformat": 4,
 "nbformat_minor": 2
}
